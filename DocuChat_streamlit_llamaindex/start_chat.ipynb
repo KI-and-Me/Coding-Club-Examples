{
 "cells": [
  {
   "cell_type": "markdown",
   "id": "a954cbe4-3e0d-436a-816a-aa42a9cca698",
   "metadata": {},
   "source": [
    "# Hinweise\n",
    "\n",
    "- Die eigentliche Chat-App ist in der Datei document_chat.py umgesetzt\n",
    "- Die PDF-Datei(en) müssen im Ordner \"chatdata\" abgelegt werden.\n",
    "- Die Installation der Bibliotheken und der Start des Servers kann einige Minuten in Anspruch nehmen. Warten Sie, bis der Start des Servers (ganz unten) bestätigt ist.\n",
    "- Sobald der Streamlit Server gestartet ist, können Sie die App mit dem Button unten im Notebook starten"
   ]
  },
  {
   "cell_type": "code",
   "execution_count": null,
   "id": "658d3060-bc00-4547-9ef7-1db1a85e773e",
   "metadata": {
    "scrolled": true
   },
   "outputs": [],
   "source": [
    "!pip install llama-index-llms-openai-like --user\n",
    "!pip install llama-index-vector-stores-chroma --user\n",
    "!pip install llama-index --user\n",
    "!pip install chromadb --user\n",
    "#!pip install llama-index-embeddings-huggingface --user\n",
    "!pip install transformers optimum[exporters] --user\n",
    "!pip install llama-index-embeddings-huggingface-optimum --user\n",
    "\n",
    "import os\n",
    "os.environ['http_proxy'] = \"http://proxy.h2.de:8080\" \n",
    "os.environ['https_proxy'] = \"http://proxy.h2.de:8080\" "
   ]
  },
  {
   "cell_type": "code",
   "execution_count": 26,
   "id": "7ab11660-5763-4f0b-bde9-b233d83c137d",
   "metadata": {
    "jupyter": {
     "source_hidden": true
    }
   },
   "outputs": [
    {
     "data": {
      "text/html": [
       "<i>Wenn der Streamlit Server gestartet ist (siehe Bestätigung in der nächsten Zelle), können Sie hier die Chat-App öffnen:</i><br>\n",
       "<button style=\"padding:15px;font-weight:bold\" href=\"#\" onclick=\"window.open('../../../../proxy/8501/', '_blank'); return false;\">App in neuem Fenster öffnen</button>\n"
      ],
      "text/plain": [
       "<IPython.core.display.HTML object>"
      ]
     },
     "metadata": {},
     "output_type": "display_data"
    }
   ],
   "source": [
    "from IPython.display import display, HTML\n",
    "\n",
    "display(HTML('''<i>Wenn der Streamlit Server gestartet ist (siehe Bestätigung in der nächsten Zelle), können Sie hier die Chat-App öffnen:</i><br>\n",
    "<button style=\"padding:15px;font-weight:bold\" href=\"#\" onclick=\"window.open('../../../../proxy/8501/', '_blank'); return false;\">App in neuem Fenster öffnen</button>\n",
    "'''))"
   ]
  },
  {
   "cell_type": "code",
   "execution_count": null,
   "id": "99e65ceb-60b4-4237-bbdd-640050b7b1a1",
   "metadata": {},
   "outputs": [],
   "source": [
    "!streamlit run document_chat.py"
   ]
  }
 ],
 "metadata": {
  "kernelspec": {
   "display_name": "Python 3 (ipykernel)",
   "language": "python",
   "name": "python3"
  },
  "language_info": {
   "codemirror_mode": {
    "name": "ipython",
    "version": 3
   },
   "file_extension": ".py",
   "mimetype": "text/x-python",
   "name": "python",
   "nbconvert_exporter": "python",
   "pygments_lexer": "ipython3",
   "version": "3.11.9"
  }
 },
 "nbformat": 4,
 "nbformat_minor": 5
}
